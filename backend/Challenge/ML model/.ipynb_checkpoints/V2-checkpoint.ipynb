{
 "cells": [
  {
   "cell_type": "markdown",
   "metadata": {
    "id": "Ms5U7BZ2LNsy"
   },
   "source": [
    "# Travelio Challenge\n"
   ]
  },
  {
   "cell_type": "markdown",
   "metadata": {
    "id": "kgsaF6qzLveR"
   },
   "source": [
    "Data Preparation"
   ]
  },
  {
   "cell_type": "code",
   "execution_count": 1,
   "metadata": {
    "colab": {
     "base_uri": "https://localhost:8080/",
     "height": 391
    },
    "id": "ilWdKL0SLVVf",
    "outputId": "05d85301-83be-4170-d682-1947137dacb1"
   },
   "outputs": [
    {
     "name": "stdout",
     "output_type": "stream",
     "text": [
      "WARNING:tensorflow:From d:\\Travelio ML v2\\myenv\\lib\\site-packages\\keras\\src\\losses.py:2976: The name tf.losses.sparse_softmax_cross_entropy is deprecated. Please use tf.compat.v1.losses.sparse_softmax_cross_entropy instead.\n",
      "\n",
      "Found 302 images belonging to 7 classes.\n",
      "Found 73 images belonging to 7 classes.\n"
     ]
    }
   ],
   "source": [
    "import os\n",
    "import tensorflow as tf\n",
    "\n",
    "from tensorflow.keras.preprocessing.image import ImageDataGenerator\n",
    "\n",
    "# Set the path to your dataset\n",
    "dataset_path = \"CHALLNGE_DATA-SET/\"\n",
    "\n",
    "# Parameters\n",
    "img_height, img_width = 224, 224  # Consistent size for all images\n",
    "batch_size = 32\n",
    "\n",
    "# Data augmentation and normalization\n",
    "train_datagen = ImageDataGenerator(\n",
    "    rescale=1./255,\n",
    "    validation_split=0.2,  # Split data into training and validation sets\n",
    "    horizontal_flip=True,\n",
    "    zoom_range=0.2,\n",
    "    shear_range=0.2\n",
    ")\n",
    "\n",
    "train_generator = train_datagen.flow_from_directory(\n",
    "    dataset_path,\n",
    "    target_size=(img_height, img_width),\n",
    "    batch_size=batch_size,\n",
    "    class_mode='categorical',\n",
    "    subset='training'\n",
    ")\n",
    "\n",
    "validation_generator = train_datagen.flow_from_directory(\n",
    "    dataset_path,\n",
    "    target_size=(img_height, img_width),\n",
    "    batch_size=batch_size,\n",
    "    class_mode='categorical',\n",
    "    subset='validation'\n",
    ")\n"
   ]
  },
  {
   "cell_type": "markdown",
   "metadata": {
    "id": "r2lNiB7SLrfJ"
   },
   "source": [
    "# Model Creation"
   ]
  },
  {
   "cell_type": "code",
   "execution_count": 2,
   "metadata": {
    "id": "n5y43pXVL3s8"
   },
   "outputs": [
    {
     "name": "stdout",
     "output_type": "stream",
     "text": [
      "WARNING:tensorflow:From d:\\Travelio ML v2\\myenv\\lib\\site-packages\\keras\\src\\backend.py:1398: The name tf.executing_eagerly_outside_functions is deprecated. Please use tf.compat.v1.executing_eagerly_outside_functions instead.\n",
      "\n",
      "WARNING:tensorflow:From d:\\Travelio ML v2\\myenv\\lib\\site-packages\\keras\\src\\layers\\pooling\\max_pooling2d.py:161: The name tf.nn.max_pool is deprecated. Please use tf.nn.max_pool2d instead.\n",
      "\n",
      "WARNING:tensorflow:From d:\\Travelio ML v2\\myenv\\lib\\site-packages\\keras\\src\\optimizers\\__init__.py:309: The name tf.train.Optimizer is deprecated. Please use tf.compat.v1.train.Optimizer instead.\n",
      "\n"
     ]
    }
   ],
   "source": [
    "from tensorflow.keras.applications import VGG16\n",
    "from tensorflow.keras.models import Sequential\n",
    "from tensorflow.keras.layers import Dense, Flatten, Dropout\n",
    "\n",
    "# Load the VGG16 model with pre-trained weights, exclude top layers\n",
    "base_model = VGG16(input_shape=(img_height, img_width, 3), include_top=False, weights='imagenet')\n",
    "\n",
    "# Freeze the base model\n",
    "base_model.trainable = False\n",
    "\n",
    "# Create the model\n",
    "model = Sequential([\n",
    "    base_model,\n",
    "    Flatten(),\n",
    "    Dense(512, activation='relu'),\n",
    "    Dropout(0.5),\n",
    "    Dense(len(train_generator.class_indices), activation='softmax')  # Number of classes\n",
    "])\n",
    "\n",
    "# Compile the model\n",
    "model.compile(optimizer='adam', loss='categorical_crossentropy', metrics=['accuracy'])\n"
   ]
  },
  {
   "cell_type": "markdown",
   "metadata": {
    "id": "Ba6dnBmTL76_"
   },
   "source": [
    "# Training and Validation"
   ]
  },
  {
   "cell_type": "code",
   "execution_count": 3,
   "metadata": {
    "id": "JcngHFnMMAVa"
   },
   "outputs": [
    {
     "name": "stdout",
     "output_type": "stream",
     "text": [
      "Epoch 1/10\n",
      "WARNING:tensorflow:From d:\\Travelio ML v2\\myenv\\lib\\site-packages\\keras\\src\\utils\\tf_utils.py:492: The name tf.ragged.RaggedTensorValue is deprecated. Please use tf.compat.v1.ragged.RaggedTensorValue instead.\n",
      "\n",
      "WARNING:tensorflow:From d:\\Travelio ML v2\\myenv\\lib\\site-packages\\keras\\src\\engine\\base_layer_utils.py:384: The name tf.executing_eagerly_outside_functions is deprecated. Please use tf.compat.v1.executing_eagerly_outside_functions instead.\n",
      "\n",
      "10/10 [==============================] - 189s 19s/step - loss: 4.2601 - accuracy: 0.3311 - val_loss: 0.9093 - val_accuracy: 0.5890\n",
      "Epoch 2/10\n",
      "10/10 [==============================] - 129s 13s/step - loss: 1.2602 - accuracy: 0.6457 - val_loss: 0.5906 - val_accuracy: 0.7808\n",
      "Epoch 3/10\n",
      "10/10 [==============================] - 127s 13s/step - loss: 0.5189 - accuracy: 0.8377 - val_loss: 0.4260 - val_accuracy: 0.8356\n",
      "Epoch 4/10\n",
      "10/10 [==============================] - 127s 13s/step - loss: 0.3304 - accuracy: 0.8742 - val_loss: 0.4084 - val_accuracy: 0.8356\n",
      "Epoch 5/10\n",
      "10/10 [==============================] - 127s 13s/step - loss: 0.2311 - accuracy: 0.9172 - val_loss: 0.4015 - val_accuracy: 0.8356\n",
      "Epoch 6/10\n",
      "10/10 [==============================] - 128s 13s/step - loss: 0.1550 - accuracy: 0.9503 - val_loss: 0.4193 - val_accuracy: 0.8219\n",
      "Epoch 7/10\n",
      "10/10 [==============================] - 127s 13s/step - loss: 0.1314 - accuracy: 0.9570 - val_loss: 0.2778 - val_accuracy: 0.9452\n",
      "Epoch 8/10\n",
      "10/10 [==============================] - 131s 13s/step - loss: 0.1164 - accuracy: 0.9636 - val_loss: 0.3533 - val_accuracy: 0.8630\n",
      "Epoch 9/10\n",
      "10/10 [==============================] - 99s 9s/step - loss: 0.0951 - accuracy: 0.9570 - val_loss: 0.3447 - val_accuracy: 0.8904\n",
      "Epoch 10/10\n",
      "10/10 [==============================] - 79s 8s/step - loss: 0.1157 - accuracy: 0.9636 - val_loss: 0.4945 - val_accuracy: 0.8356\n"
     ]
    }
   ],
   "source": [
    "# Train the model\n",
    "history = model.fit(\n",
    "    train_generator,\n",
    "    validation_data=validation_generator,\n",
    "    epochs=10  # You can increase the number of epochs\n",
    ")\n"
   ]
  },
  {
   "cell_type": "markdown",
   "metadata": {
    "id": "mHLe-ICcMC1F"
   },
   "source": [
    "#  Save the Model"
   ]
  },
  {
   "cell_type": "code",
   "execution_count": 4,
   "metadata": {},
   "outputs": [],
   "source": [
    "model_json = model.to_json()\n",
    "with open(\"model_architecture.json\", \"w\") as json_file:\n",
    "    json_file.write(model_json)\n"
   ]
  },
  {
   "cell_type": "code",
   "execution_count": 5,
   "metadata": {},
   "outputs": [
    {
     "name": "stdout",
     "output_type": "stream",
     "text": [
      "2.15.0\n"
     ]
    }
   ],
   "source": [
    "print(tf.__version__)"
   ]
  },
  {
   "cell_type": "code",
   "execution_count": 6,
   "metadata": {
    "id": "KXNhJEwTMGUs"
   },
   "outputs": [
    {
     "name": "stderr",
     "output_type": "stream",
     "text": [
      "d:\\Travelio ML v2\\myenv\\lib\\site-packages\\keras\\src\\engine\\training.py:3103: UserWarning: You are saving your model as an HDF5 file via `model.save()`. This file format is considered legacy. We recommend using instead the native Keras format, e.g. `model.save('my_model.keras')`.\n",
      "  saving_api.save_model(\n"
     ]
    }
   ],
   "source": [
    "model.save('attraction_model.h5')"
   ]
  },
  {
   "cell_type": "markdown",
   "metadata": {
    "id": "ka8_5tm1MIp9"
   },
   "source": [
    "# Load and Use the Model for Prediction"
   ]
  },
  {
   "cell_type": "markdown",
   "metadata": {
    "id": "-qxrWn0qMNPJ"
   },
   "source": [
    "Training"
   ]
  },
  {
   "cell_type": "code",
   "execution_count": 8,
   "metadata": {
    "id": "g2UpwPWvMP7S"
   },
   "outputs": [
    {
     "name": "stdout",
     "output_type": "stream",
     "text": [
      "1/1 [==============================] - 1s 910ms/step\n",
      "The image is predicted to be: GIZA_PYRAMIDS\n"
     ]
    }
   ],
   "source": [
    "from tensorflow.keras.models import load_model\n",
    "import numpy as np\n",
    "from tensorflow.keras.preprocessing import image\n",
    "\n",
    "# Load the model\n",
    "model1 = load_model('attraction_model.h5')\n",
    "\n",
    "# Function to predict the class of a single image\n",
    "def predict_image(img_path, model):\n",
    "    img = image.load_img(img_path, target_size=(img_height, img_width))\n",
    "    img_array = image.img_to_array(img) / 255.0\n",
    "    img_array = np.expand_dims(img_array, axis=0)  # Add batch dimension\n",
    "\n",
    "    prediction = model.predict(img_array)\n",
    "    class_idx = np.argmax(prediction, axis=1)[0]\n",
    "    class_label = list(train_generator.class_indices.keys())[class_idx]\n",
    "\n",
    "    return class_label\n",
    "\n",
    "# Predict an image\n",
    "img_path = './Test pics/khofo_edit.jpg'\n",
    "predicted_class = predict_image(img_path, model1)\n",
    "print(f'The image is predicted to be: {predicted_class}')\n"
   ]
  }
 ],
 "metadata": {
  "colab": {
   "provenance": []
  },
  "kernelspec": {
   "display_name": "Python 3 (ipykernel)",
   "language": "python",
   "name": "python3"
  },
  "language_info": {
   "codemirror_mode": {
    "name": "ipython",
    "version": 3
   },
   "file_extension": ".py",
   "mimetype": "text/x-python",
   "name": "python",
   "nbconvert_exporter": "python",
   "pygments_lexer": "ipython3",
   "version": "3.10.11"
  }
 },
 "nbformat": 4,
 "nbformat_minor": 4
}
